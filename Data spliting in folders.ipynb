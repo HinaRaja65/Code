{
 "cells": [
  {
   "cell_type": "markdown",
   "id": "a4883f05",
   "metadata": {},
   "source": [
    "# Spliting the Folder of Images  their mask and layers data into training  validation, and testing "
   ]
  },
  {
   "cell_type": "code",
   "execution_count": 1,
   "id": "90722a48",
   "metadata": {},
   "outputs": [],
   "source": [
    "#pip install split-folders"
   ]
  },
  {
   "cell_type": "code",
   "execution_count": 2,
   "id": "c9205f23",
   "metadata": {},
   "outputs": [],
   "source": [
    "import cv2\n",
    "import numpy as np\n",
    "import os\n",
    "import sys\n",
    "from sklearn.model_selection import train_test_split\n",
    "from sklearn.utils import shuffle\n",
    "import splitfolders\n",
    "\n",
    "import pandas as pd"
   ]
  },
  {
   "cell_type": "code",
   "execution_count": 3,
   "id": "8444d854",
   "metadata": {},
   "outputs": [],
   "source": [
    "#path of input folder\n",
    "input_folder_path_images=\"C://Users/hinar/GOAL/Augmented data\"\n",
    "#path of output folder where images have to be saved\n",
    "output_path_images=\"C://Users/hinar/GOAL/data\"\n",
    "\n",
    "input_folder_path_masks=\"C://Users/hinar/GOAL/Augmented mask\"\n",
    "output_path_masks=\"C://Users/hinar/GOAL/mask\"\n",
    "\n",
    "input_folder_path_layershow=\"C://Users/hinar/GOAL/Augmented layers\"\n",
    "output_path_layershow=\"C://Users/hinar/GOAL/layers\""
   ]
  },
  {
   "cell_type": "code",
   "execution_count": 4,
   "id": "7497f1b0",
   "metadata": {},
   "outputs": [
    {
     "name": "stderr",
     "output_type": "stream",
     "text": [
      "Copying files: 2100 files [00:10, 193.32 files/s]\n",
      "Copying files: 2100 files [00:04, 438.77 files/s]\n",
      "Copying files: 2100 files [00:10, 194.77 files/s]\n"
     ]
    }
   ],
   "source": [
    "# Split the data into training, validation and testing data\n",
    "\n",
    "splitfolders.ratio(input_folder_path_images, output=output_path_images, seed=1337, ratio=(.7, 0.1,0.2)) \n",
    "\n",
    "# Split the mask into training,  validation and testing data\n",
    "splitfolders.ratio(input_folder_path_masks, output=output_path_masks, seed=1337, ratio=(.7, 0.1,0.2)) \n",
    "\n",
    "# Split the layer_show into training,  validation and testing data\n",
    "splitfolders.ratio(input_folder_path_layershow, output=output_path_layershow, seed=1337, ratio=(.7, 0.1,0.2)) "
   ]
  },
  {
   "cell_type": "code",
   "execution_count": 5,
   "id": "5d24523c",
   "metadata": {},
   "outputs": [
    {
     "name": "stdout",
     "output_type": "stream",
     "text": [
      "Training Images: 1470\n",
      "999.png\n"
     ]
    }
   ],
   "source": [
    "# folder path\n",
    "dir_path = \"C://Users/hinar/GOAL/data/train/aug data\"\n",
    "count = 0\n",
    "# Iterate directory\n",
    "for path in os.listdir(dir_path):\n",
    "    # check if current path is a file\n",
    "    if os.path.isfile(os.path.join(dir_path, path)):\n",
    "        count += 1\n",
    "print('Training Images:', count)\n",
    "print(path)"
   ]
  },
  {
   "cell_type": "code",
   "execution_count": 6,
   "id": "199ea15f",
   "metadata": {},
   "outputs": [
    {
     "name": "stdout",
     "output_type": "stream",
     "text": [
      "Testing Images: 420\n"
     ]
    }
   ],
   "source": [
    "# folder path\n",
    "dir_path = \"C://Users/hinar/GOAL/data/test/aug data\"\n",
    "count = 0\n",
    "# Iterate directory\n",
    "for path in os.listdir(dir_path):\n",
    "    # check if current path is a file\n",
    "    if os.path.isfile(os.path.join(dir_path, path)):\n",
    "        count += 1\n",
    "print('Testing Images:', count)"
   ]
  },
  {
   "cell_type": "code",
   "execution_count": 7,
   "id": "9f94f24a",
   "metadata": {},
   "outputs": [
    {
     "name": "stdout",
     "output_type": "stream",
     "text": [
      "Validati0n Images: 210\n"
     ]
    }
   ],
   "source": [
    "# folder path\n",
    "dir_path = \"C://Users/hinar/GOAL/data/val/aug data\"\n",
    "count = 0\n",
    "# Iterate directory\n",
    "for path in os.listdir(dir_path):\n",
    "    # check if current path is a file\n",
    "    if os.path.isfile(os.path.join(dir_path, path)):\n",
    "        count += 1\n",
    "print('Validati0n Images:', count)"
   ]
  }
 ],
 "metadata": {
  "kernelspec": {
   "display_name": "Python 3 (ipykernel)",
   "language": "python",
   "name": "python3"
  },
  "language_info": {
   "codemirror_mode": {
    "name": "ipython",
    "version": 3
   },
   "file_extension": ".py",
   "mimetype": "text/x-python",
   "name": "python",
   "nbconvert_exporter": "python",
   "pygments_lexer": "ipython3",
   "version": "3.9.7"
  }
 },
 "nbformat": 4,
 "nbformat_minor": 5
}

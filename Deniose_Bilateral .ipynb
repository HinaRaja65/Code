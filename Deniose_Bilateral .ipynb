{
 "cells": [
  {
   "cell_type": "code",
   "execution_count": 1,
   "id": "fd63a8dd",
   "metadata": {},
   "outputs": [],
   "source": [
    "import cv2 as cv2\n",
    "\n",
    "import numpy as np\n",
    "import matplotlib.pyplot as plt\n",
    "from PIL import Image\n",
    "import os\n",
    "from skimage import io,  morphology"
   ]
  },
  {
   "cell_type": "code",
   "execution_count": 4,
   "id": "2072b085",
   "metadata": {},
   "outputs": [],
   "source": [
    "images_path=\"/Users/hinar/GOAL/Train/Image/data\" #path to original images\n",
    "img_denoise_path=\"C://Users/hinar/GOAL/preprocessed images/denoised_image\" # path to store denoise image images\n",
    "#images_path=\"C:\\GOALS\\GOALS2022-Validation\\GOALS2022-Validation\\Image\"\n",
    "#img_denoise_path=\"C:\\GOALS\\GOALS2022-Validation\\GOALS2022-Validation\\denoise_images\""
   ]
  },
  {
   "cell_type": "code",
   "execution_count": 11,
   "id": "22b7c6b7",
   "metadata": {},
   "outputs": [
    {
     "name": "stdout",
     "output_type": "stream",
     "text": [
      "Full path /Users/hinar/GOAL/Train/Image/data\\0001.png\n",
      "(800, 1100, 3)\n",
      "Full path /Users/hinar/GOAL/Train/Image/data\\0002.png\n",
      "(800, 1100, 3)\n",
      "Full path /Users/hinar/GOAL/Train/Image/data\\0003.png\n",
      "(800, 1100, 3)\n",
      "Full path /Users/hinar/GOAL/Train/Image/data\\0004.png\n",
      "(800, 1100, 3)\n",
      "Full path /Users/hinar/GOAL/Train/Image/data\\0005.png\n",
      "(800, 1100, 3)\n",
      "Full path /Users/hinar/GOAL/Train/Image/data\\0006.png\n",
      "(800, 1100, 3)\n",
      "Full path /Users/hinar/GOAL/Train/Image/data\\0007.png\n",
      "(800, 1100, 3)\n",
      "Full path /Users/hinar/GOAL/Train/Image/data\\0008.png\n",
      "(800, 1100, 3)\n",
      "Full path /Users/hinar/GOAL/Train/Image/data\\0009.png\n",
      "(800, 1100, 3)\n",
      "Full path /Users/hinar/GOAL/Train/Image/data\\0010.png\n",
      "(800, 1100, 3)\n",
      "Number of files in image folder 10\n"
     ]
    }
   ],
   "source": [
    "images=[] # to store paths of images from folder\n",
    "CV_LOAD_IMAGE_COLOR = 1 # set flag to 1 to give colour image\n",
    "#CV_LOAD_IMAGE_COLOR = 0 # set flag to 0 to give a grayscale one\n",
    "\n",
    "count=0\n",
    "\n",
    "for im in os.listdir(images_path):  # read image name from folder and append its path into \"images\" array     \n",
    "    images.append(os.path.join(images_path,im))\n",
    "    full_path=os.path.join(images_path,im)\n",
    "    print('Full path', full_path)\n",
    "    \n",
    "    #reading image\n",
    "    img=cv2.imread(full_path,CV_LOAD_IMAGE_COLOR)\n",
    "    print(img.shape)\n",
    "    \n",
    "    #Denosing the image\n",
    "    bilateral = cv2.bilateralFilter(img, 5, 100, 100)\n",
    "    #denoised_image =cv2.fastNlMeansDenoisingColored(img,None,10,10,21,7)\n",
    "    count+=1\n",
    "    cv2.imshow(\"image1\", bilateral)\n",
    "    cv2.waitKey(0)\n",
    "    cv2.destroyAllWindows()\n",
    "    \n",
    "    if (count==10):\n",
    "        break\n",
    "    \n",
    "    #saving the denoised image\n",
    "    #new_image_path = \"%s/%s.png\" %(img_denoise_path, im)\n",
    "    #io.imsave(new_image_path, denoised_image)\n",
    "    \n",
    "print('Number of files in image folder',len(images)) "
   ]
  },
  {
   "cell_type": "code",
   "execution_count": null,
   "id": "3a341735",
   "metadata": {},
   "outputs": [],
   "source": []
  }
 ],
 "metadata": {
  "kernelspec": {
   "display_name": "Python 3 (ipykernel)",
   "language": "python",
   "name": "python3"
  },
  "language_info": {
   "codemirror_mode": {
    "name": "ipython",
    "version": 3
   },
   "file_extension": ".py",
   "mimetype": "text/x-python",
   "name": "python",
   "nbconvert_exporter": "python",
   "pygments_lexer": "ipython3",
   "version": "3.9.7"
  }
 },
 "nbformat": 4,
 "nbformat_minor": 5
}

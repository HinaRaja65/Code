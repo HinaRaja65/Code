{
 "cells": [
  {
   "cell_type": "markdown",
   "id": "c1bfb52e",
   "metadata": {},
   "source": [
    "# Preprocessing \n",
    "%--------------------------------------------------------------------------------------%\n",
    "Code perform the image denoising for train and test data followed by contrast enhacement\n",
    "Image denoise filter:Bilateral filter\n",
    "%--------------------------------------------------------------------------------------%"
   ]
  },
  {
   "cell_type": "code",
   "execution_count": 1,
   "id": "11c012c8",
   "metadata": {},
   "outputs": [],
   "source": [
    "import cv2\n",
    "import numpy as np\n",
    "import os\n",
    "import sys\n",
    "from scipy import signal\n",
    "import matplotlib.pyplot as plt\n",
    "#import pyclesperanto_prototype as cle\n",
    "from skimage import io, img_as_ubyte\n",
    "from scipy import ndimage as nd"
   ]
  },
  {
   "cell_type": "code",
   "execution_count": 2,
   "id": "423300be",
   "metadata": {},
   "outputs": [],
   "source": [
    "def adjust_contrast_brightness(img, contrast:float=1.0, brightness:int=0):\n",
    "    \"\"\"\n",
    "    Adjusts contrast and brightness of an uint8 image.\n",
    "    contrast:   (0.0,  inf) with 1.0 leaving the contrast as is\n",
    "    brightness: [-255, 255] with 0 leaving the brightness as is\n",
    "    \"\"\"\n",
    "    brightness += int(round(255*(1-contrast)/2))\n",
    "    return cv2.addWeighted(img, contrast, img, 0, brightness)\n"
   ]
  },
  {
   "cell_type": "code",
   "execution_count": 3,
   "id": "50c5c22d",
   "metadata": {},
   "outputs": [],
   "source": [
    "images_path=\"/Users/hinar/GOAL/Train/Image/data\" #path to original images\n",
    "out_path = \"/Users/hinar/GOAL/preprocessed images/denoise_contrast\"#path to save the denoise and enhance\n",
    "images=[] # to store paths of images from folder"
   ]
  },
  {
   "cell_type": "code",
   "execution_count": 10,
   "id": "7c286cf0",
   "metadata": {},
   "outputs": [],
   "source": [
    "images_path=\"/Users/hinar/GOAL/GOALS2022-Validation/GOALS2022-Validation/image1\" #path to test images\n",
    "out_path = \"/Users/hinar/GOAL/preprocessed images/denoise_contrast_test\"#path to save the denoise and enhance\n",
    "images=[] # to store paths of images from folder"
   ]
  },
  {
   "cell_type": "code",
   "execution_count": 14,
   "id": "0df51321",
   "metadata": {},
   "outputs": [
    {
     "name": "stdout",
     "output_type": "stream",
     "text": [
      "Number of files in image folder 197\n",
      "/Users/hinar/GOAL/GOALS2022-Validation/GOALS2022-Validation/image1\\0102.png\n",
      "0200.png\n"
     ]
    }
   ],
   "source": [
    "# read image name from folder and append its path into \"images\" array \n",
    "for im in os.listdir(images_path):      \n",
    "    images.append(os.path.join(images_path,im))\n",
    "print('Number of files in image folder',len(images)) \n",
    "print(images[1])\n",
    "print(im)"
   ]
  },
  {
   "cell_type": "code",
   "execution_count": 16,
   "id": "92754255",
   "metadata": {},
   "outputs": [
    {
     "name": "stdout",
     "output_type": "stream",
     "text": [
      "/Users/hinar/GOAL/GOALS2022-Validation/GOALS2022-Validation/image1\\0101.png\n",
      "/Users/hinar/GOAL/GOALS2022-Validation/GOALS2022-Validation/image1\\0102.png\n",
      "/Users/hinar/GOAL/GOALS2022-Validation/GOALS2022-Validation/image1\\0103.png\n",
      "/Users/hinar/GOAL/GOALS2022-Validation/GOALS2022-Validation/image1\\0104.png\n",
      "/Users/hinar/GOAL/GOALS2022-Validation/GOALS2022-Validation/image1\\0105.png\n",
      "/Users/hinar/GOAL/GOALS2022-Validation/GOALS2022-Validation/image1\\0106.png\n",
      "/Users/hinar/GOAL/GOALS2022-Validation/GOALS2022-Validation/image1\\0107.png\n",
      "/Users/hinar/GOAL/GOALS2022-Validation/GOALS2022-Validation/image1\\0108.png\n",
      "/Users/hinar/GOAL/GOALS2022-Validation/GOALS2022-Validation/image1\\0109.png\n",
      "/Users/hinar/GOAL/GOALS2022-Validation/GOALS2022-Validation/image1\\0110.png\n",
      "/Users/hinar/GOAL/GOALS2022-Validation/GOALS2022-Validation/image1\\0111.png\n",
      "/Users/hinar/GOAL/GOALS2022-Validation/GOALS2022-Validation/image1\\0112.png\n",
      "/Users/hinar/GOAL/GOALS2022-Validation/GOALS2022-Validation/image1\\0113.png\n",
      "/Users/hinar/GOAL/GOALS2022-Validation/GOALS2022-Validation/image1\\0114.png\n",
      "/Users/hinar/GOAL/GOALS2022-Validation/GOALS2022-Validation/image1\\0115.png\n",
      "/Users/hinar/GOAL/GOALS2022-Validation/GOALS2022-Validation/image1\\0116.png\n",
      "/Users/hinar/GOAL/GOALS2022-Validation/GOALS2022-Validation/image1\\0117.png\n",
      "/Users/hinar/GOAL/GOALS2022-Validation/GOALS2022-Validation/image1\\0118.png\n",
      "/Users/hinar/GOAL/GOALS2022-Validation/GOALS2022-Validation/image1\\0119.png\n",
      "/Users/hinar/GOAL/GOALS2022-Validation/GOALS2022-Validation/image1\\0120.png\n",
      "/Users/hinar/GOAL/GOALS2022-Validation/GOALS2022-Validation/image1\\0121.png\n",
      "/Users/hinar/GOAL/GOALS2022-Validation/GOALS2022-Validation/image1\\0122.png\n",
      "/Users/hinar/GOAL/GOALS2022-Validation/GOALS2022-Validation/image1\\0123.png\n",
      "/Users/hinar/GOAL/GOALS2022-Validation/GOALS2022-Validation/image1\\0124.png\n",
      "/Users/hinar/GOAL/GOALS2022-Validation/GOALS2022-Validation/image1\\0125.png\n",
      "/Users/hinar/GOAL/GOALS2022-Validation/GOALS2022-Validation/image1\\0126.png\n",
      "/Users/hinar/GOAL/GOALS2022-Validation/GOALS2022-Validation/image1\\0127.png\n",
      "/Users/hinar/GOAL/GOALS2022-Validation/GOALS2022-Validation/image1\\0128.png\n",
      "/Users/hinar/GOAL/GOALS2022-Validation/GOALS2022-Validation/image1\\0129.png\n",
      "/Users/hinar/GOAL/GOALS2022-Validation/GOALS2022-Validation/image1\\0130.png\n",
      "/Users/hinar/GOAL/GOALS2022-Validation/GOALS2022-Validation/image1\\0131.png\n",
      "/Users/hinar/GOAL/GOALS2022-Validation/GOALS2022-Validation/image1\\0132.png\n",
      "/Users/hinar/GOAL/GOALS2022-Validation/GOALS2022-Validation/image1\\0133.png\n",
      "/Users/hinar/GOAL/GOALS2022-Validation/GOALS2022-Validation/image1\\0134.png\n",
      "/Users/hinar/GOAL/GOALS2022-Validation/GOALS2022-Validation/image1\\0135.png\n",
      "/Users/hinar/GOAL/GOALS2022-Validation/GOALS2022-Validation/image1\\0136.png\n",
      "/Users/hinar/GOAL/GOALS2022-Validation/GOALS2022-Validation/image1\\0137.png\n",
      "/Users/hinar/GOAL/GOALS2022-Validation/GOALS2022-Validation/image1\\0138.png\n",
      "/Users/hinar/GOAL/GOALS2022-Validation/GOALS2022-Validation/image1\\0139.png\n",
      "/Users/hinar/GOAL/GOALS2022-Validation/GOALS2022-Validation/image1\\0140.png\n",
      "/Users/hinar/GOAL/GOALS2022-Validation/GOALS2022-Validation/image1\\0141.png\n",
      "/Users/hinar/GOAL/GOALS2022-Validation/GOALS2022-Validation/image1\\0142.png\n",
      "/Users/hinar/GOAL/GOALS2022-Validation/GOALS2022-Validation/image1\\0143.png\n",
      "/Users/hinar/GOAL/GOALS2022-Validation/GOALS2022-Validation/image1\\0144.png\n",
      "/Users/hinar/GOAL/GOALS2022-Validation/GOALS2022-Validation/image1\\0145.png\n",
      "/Users/hinar/GOAL/GOALS2022-Validation/GOALS2022-Validation/image1\\0146.png\n",
      "/Users/hinar/GOAL/GOALS2022-Validation/GOALS2022-Validation/image1\\0147.png\n",
      "/Users/hinar/GOAL/GOALS2022-Validation/GOALS2022-Validation/image1\\0148.png\n",
      "/Users/hinar/GOAL/GOALS2022-Validation/GOALS2022-Validation/image1\\0149.png\n",
      "/Users/hinar/GOAL/GOALS2022-Validation/GOALS2022-Validation/image1\\0150.png\n",
      "/Users/hinar/GOAL/GOALS2022-Validation/GOALS2022-Validation/image1\\0151.png\n",
      "/Users/hinar/GOAL/GOALS2022-Validation/GOALS2022-Validation/image1\\0152.png\n",
      "/Users/hinar/GOAL/GOALS2022-Validation/GOALS2022-Validation/image1\\0153.png\n",
      "/Users/hinar/GOAL/GOALS2022-Validation/GOALS2022-Validation/image1\\0154.png\n",
      "/Users/hinar/GOAL/GOALS2022-Validation/GOALS2022-Validation/image1\\0155.png\n",
      "/Users/hinar/GOAL/GOALS2022-Validation/GOALS2022-Validation/image1\\0156.png\n",
      "/Users/hinar/GOAL/GOALS2022-Validation/GOALS2022-Validation/image1\\0157.png\n",
      "/Users/hinar/GOAL/GOALS2022-Validation/GOALS2022-Validation/image1\\0158.png\n",
      "/Users/hinar/GOAL/GOALS2022-Validation/GOALS2022-Validation/image1\\0159.png\n",
      "/Users/hinar/GOAL/GOALS2022-Validation/GOALS2022-Validation/image1\\0160.png\n",
      "/Users/hinar/GOAL/GOALS2022-Validation/GOALS2022-Validation/image1\\0161.png\n",
      "/Users/hinar/GOAL/GOALS2022-Validation/GOALS2022-Validation/image1\\0162.png\n",
      "/Users/hinar/GOAL/GOALS2022-Validation/GOALS2022-Validation/image1\\0163.png\n",
      "/Users/hinar/GOAL/GOALS2022-Validation/GOALS2022-Validation/image1\\0164.png\n",
      "/Users/hinar/GOAL/GOALS2022-Validation/GOALS2022-Validation/image1\\0165.png\n",
      "/Users/hinar/GOAL/GOALS2022-Validation/GOALS2022-Validation/image1\\0166.png\n",
      "/Users/hinar/GOAL/GOALS2022-Validation/GOALS2022-Validation/image1\\0167.png\n",
      "/Users/hinar/GOAL/GOALS2022-Validation/GOALS2022-Validation/image1\\0168.png\n",
      "/Users/hinar/GOAL/GOALS2022-Validation/GOALS2022-Validation/image1\\0169.png\n",
      "/Users/hinar/GOAL/GOALS2022-Validation/GOALS2022-Validation/image1\\0170.png\n",
      "/Users/hinar/GOAL/GOALS2022-Validation/GOALS2022-Validation/image1\\0171.png\n",
      "/Users/hinar/GOAL/GOALS2022-Validation/GOALS2022-Validation/image1\\0172.png\n",
      "/Users/hinar/GOAL/GOALS2022-Validation/GOALS2022-Validation/image1\\0173.png\n",
      "/Users/hinar/GOAL/GOALS2022-Validation/GOALS2022-Validation/image1\\0174.png\n",
      "/Users/hinar/GOAL/GOALS2022-Validation/GOALS2022-Validation/image1\\0175.png\n",
      "/Users/hinar/GOAL/GOALS2022-Validation/GOALS2022-Validation/image1\\0176.png\n",
      "/Users/hinar/GOAL/GOALS2022-Validation/GOALS2022-Validation/image1\\0177.png\n",
      "/Users/hinar/GOAL/GOALS2022-Validation/GOALS2022-Validation/image1\\0178.png\n",
      "/Users/hinar/GOAL/GOALS2022-Validation/GOALS2022-Validation/image1\\0179.png\n",
      "/Users/hinar/GOAL/GOALS2022-Validation/GOALS2022-Validation/image1\\0180.png\n",
      "/Users/hinar/GOAL/GOALS2022-Validation/GOALS2022-Validation/image1\\0181.png\n",
      "/Users/hinar/GOAL/GOALS2022-Validation/GOALS2022-Validation/image1\\0182.png\n",
      "/Users/hinar/GOAL/GOALS2022-Validation/GOALS2022-Validation/image1\\0183.png\n",
      "/Users/hinar/GOAL/GOALS2022-Validation/GOALS2022-Validation/image1\\0184.png\n",
      "/Users/hinar/GOAL/GOALS2022-Validation/GOALS2022-Validation/image1\\0185.png\n",
      "/Users/hinar/GOAL/GOALS2022-Validation/GOALS2022-Validation/image1\\0186.png\n",
      "/Users/hinar/GOAL/GOALS2022-Validation/GOALS2022-Validation/image1\\0187.png\n",
      "/Users/hinar/GOAL/GOALS2022-Validation/GOALS2022-Validation/image1\\0188.png\n",
      "/Users/hinar/GOAL/GOALS2022-Validation/GOALS2022-Validation/image1\\0189.png\n",
      "/Users/hinar/GOAL/GOALS2022-Validation/GOALS2022-Validation/image1\\0190.png\n",
      "/Users/hinar/GOAL/GOALS2022-Validation/GOALS2022-Validation/image1\\0191.png\n",
      "/Users/hinar/GOAL/GOALS2022-Validation/GOALS2022-Validation/image1\\0192.png\n",
      "/Users/hinar/GOAL/GOALS2022-Validation/GOALS2022-Validation/image1\\0193.png\n",
      "/Users/hinar/GOAL/GOALS2022-Validation/GOALS2022-Validation/image1\\0194.png\n",
      "/Users/hinar/GOAL/GOALS2022-Validation/GOALS2022-Validation/image1\\0195.png\n",
      "/Users/hinar/GOAL/GOALS2022-Validation/GOALS2022-Validation/image1\\0196.png\n",
      "/Users/hinar/GOAL/GOALS2022-Validation/GOALS2022-Validation/image1\\0197.png\n",
      "/Users/hinar/GOAL/GOALS2022-Validation/GOALS2022-Validation/image1\\0101.png\n",
      "/Users/hinar/GOAL/GOALS2022-Validation/GOALS2022-Validation/image1\\0102.png\n",
      "/Users/hinar/GOAL/GOALS2022-Validation/GOALS2022-Validation/image1\\0103.png\n"
     ]
    }
   ],
   "source": [
    "\n",
    "i=0   # variable to iterate till images_to_generate\n",
    "\n",
    "for im in os.listdir(images_path):\n",
    "    image = images[i]\n",
    "    print(image)\n",
    "    original_image = io.imread(image)\n",
    "\n",
    "    bilateral = cv2.bilateralFilter( original_image, 5, 100, 100)\n",
    "    adjusted1_image=adjust_contrast_brightness(bilateral, 2,5)\n",
    "    \n",
    "    index=i+1  # to match with the name of original images\n",
    "    \n",
    "    new_image_path= \"%s/%s\" %(out_path, im)\n",
    "    \n",
    "    io.imsave(new_image_path, adjusted1_image)\n",
    "    \n",
    "    \n",
    "    #variable controlling the number of images to process    \n",
    "    i =i+1\n",
    "    if(i==100):\n",
    "        break\n",
    "\n"
   ]
  },
  {
   "cell_type": "code",
   "execution_count": null,
   "id": "7ff78ea7",
   "metadata": {},
   "outputs": [],
   "source": [
    "cv2.imshow('original', img)\n",
    "cv2.imshow('adjusted', adjusted1)\n",
    "cv2.imshow(\"bilateralFilter\", bilateral)\n",
    "cv2.waitKey(0)          \n",
    "cv2.destroyAllWindows()"
   ]
  }
 ],
 "metadata": {
  "kernelspec": {
   "display_name": "Python 3 (ipykernel)",
   "language": "python",
   "name": "python3"
  },
  "language_info": {
   "codemirror_mode": {
    "name": "ipython",
    "version": 3
   },
   "file_extension": ".py",
   "mimetype": "text/x-python",
   "name": "python",
   "nbconvert_exporter": "python",
   "pygments_lexer": "ipython3",
   "version": "3.9.7"
  }
 },
 "nbformat": 4,
 "nbformat_minor": 5
}
